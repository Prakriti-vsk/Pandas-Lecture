{
 "cells": [
  {
   "cell_type": "code",
   "execution_count": 41,
   "id": "d3d898b7-e3dd-44c4-a8ef-afd6f67c2ce5",
   "metadata": {},
   "outputs": [],
   "source": [
    "#cofficients finding using pandas"
   ]
  },
  {
   "cell_type": "code",
   "execution_count": 2,
   "id": "229fd5e4-22d5-49d1-8d14-d81fe80de446",
   "metadata": {},
   "outputs": [],
   "source": [
    "import pandas as pd\n",
    "import numpy as np"
   ]
  },
  {
   "cell_type": "code",
   "execution_count": 13,
   "id": "d3cf8778-2eb2-4997-8c88-8d7116a4bb2c",
   "metadata": {},
   "outputs": [],
   "source": [
    "data = {\n",
    "    'A': [1, 2, 3],\n",
    "    'B': [4, 5, 6]\n",
    "}\n",
    "df = pd.DataFrame(data)\n",
    "array = np.array([[1, 2], [3, 4], [5, 6]])\n",
    "df_from_array = pd.DataFrame(array, columns=['Column1', 'Column2'])"
   ]
  },
  {
   "cell_type": "code",
   "execution_count": 14,
   "id": "28a571b5-761e-4cc4-b072-9ab0a839bf06",
   "metadata": {},
   "outputs": [
    {
     "data": {
      "text/plain": [
       "0    1\n",
       "1    2\n",
       "2    3\n",
       "Name: A, dtype: int64"
      ]
     },
     "execution_count": 14,
     "metadata": {},
     "output_type": "execute_result"
    }
   ],
   "source": [
    "df['A']  "
   ]
  },
  {
   "cell_type": "code",
   "execution_count": 5,
   "id": "fe649a8a-e535-43c9-a9df-dcdbb8f9bde8",
   "metadata": {},
   "outputs": [
    {
     "data": {
      "text/plain": [
       "A    1\n",
       "B    4\n",
       "Name: 0, dtype: int64"
      ]
     },
     "execution_count": 5,
     "metadata": {},
     "output_type": "execute_result"
    }
   ],
   "source": [
    "df.iloc[0]"
   ]
  },
  {
   "cell_type": "code",
   "execution_count": 15,
   "id": "868960da-0f8b-4537-a03f-7d2a85d45b33",
   "metadata": {},
   "outputs": [
    {
     "data": {
      "text/plain": [
       "np.int64(1)"
      ]
     },
     "execution_count": 15,
     "metadata": {},
     "output_type": "execute_result"
    }
   ],
   "source": [
    "df.at[0, 'A']"
   ]
  },
  {
   "cell_type": "code",
   "execution_count": 16,
   "id": "1c4afecd-10fa-4f1b-888d-d235be6d4568",
   "metadata": {},
   "outputs": [],
   "source": [
    "df['C'] = df['A'] + df['B']"
   ]
  },
  {
   "cell_type": "code",
   "execution_count": 17,
   "id": "c44aee56-9fa9-4e4d-bdb9-298835844fa2",
   "metadata": {},
   "outputs": [],
   "source": [
    "df.drop('B', axis=1, inplace=True)"
   ]
  },
  {
   "cell_type": "code",
   "execution_count": 9,
   "id": "ffb1b03f-90e5-42c2-9b05-eca6a3516a64",
   "metadata": {},
   "outputs": [],
   "source": [
    "matrix = df.values  # or df.to_numpy()\n"
   ]
  },
  {
   "cell_type": "code",
   "execution_count": 18,
   "id": "5b0fea06-0fdc-4dd5-843c-a3d4625d8d86",
   "metadata": {},
   "outputs": [],
   "source": [
    "result = np.dot(array, array.T)"
   ]
  },
  {
   "cell_type": "code",
   "execution_count": 19,
   "id": "eb6351a0-f43e-4951-82d0-4983377ad808",
   "metadata": {},
   "outputs": [
    {
     "data": {
      "text/plain": [
       "array([[ 5, 11, 17],\n",
       "       [11, 25, 39],\n",
       "       [17, 39, 61]])"
      ]
     },
     "execution_count": 19,
     "metadata": {},
     "output_type": "execute_result"
    }
   ],
   "source": [
    "result"
   ]
  },
  {
   "cell_type": "code",
   "execution_count": 20,
   "id": "e50e2e79-5249-4869-858e-0a6c5514f8a8",
   "metadata": {},
   "outputs": [
    {
     "data": {
      "text/plain": [
       "array([[1, 5],\n",
       "       [2, 7],\n",
       "       [3, 9]])"
      ]
     },
     "execution_count": 20,
     "metadata": {},
     "output_type": "execute_result"
    }
   ],
   "source": [
    "matrix"
   ]
  },
  {
   "cell_type": "code",
   "execution_count": 24,
   "id": "5d36d248-cf5a-4df6-8672-6abae39e2ccc",
   "metadata": {},
   "outputs": [],
   "source": [
    "#finding coefficients by using matrix"
   ]
  },
  {
   "cell_type": "code",
   "execution_count": 25,
   "id": "8741dfd4-65ba-4de4-affb-986e97539687",
   "metadata": {},
   "outputs": [],
   "source": [
    "import pandas as pd\n",
    "import numpy as np\n",
    "from sklearn.linear_model import LinearRegression"
   ]
  },
  {
   "cell_type": "code",
   "execution_count": 26,
   "id": "afb423d5-6d8b-4bc8-ba6d-60f74bee3012",
   "metadata": {},
   "outputs": [],
   "source": [
    "data = {\n",
    "    'X': [1, 2, 3, 4, 5],\n",
    "    'y': [2, 3, 5, 7, 11]\n",
    "}\n",
    "df = pd.DataFrame(data)\n"
   ]
  },
  {
   "cell_type": "code",
   "execution_count": 27,
   "id": "c83f3368-8b84-4d2e-871f-79824b57a4d9",
   "metadata": {},
   "outputs": [],
   "source": [
    "X = df[['X']]  # Independent variable(s)\n",
    "y = df['y']    # Dependent variable\n"
   ]
  },
  {
   "cell_type": "code",
   "execution_count": 28,
   "id": "afded400-ec60-4002-ba0b-c4898cde0d04",
   "metadata": {},
   "outputs": [],
   "source": [
    "model = LinearRegression()\n",
    "model.fit(X, y)\n",
    "\n",
    "# Get the coefficients\n",
    "coefficients = model.coef_\n",
    "intercept = model.intercept_\n"
   ]
  },
  {
   "cell_type": "code",
   "execution_count": 29,
   "id": "f0477031-b153-48fa-bb34-31d38c9a42ed",
   "metadata": {},
   "outputs": [
    {
     "name": "stdout",
     "output_type": "stream",
     "text": [
      "Coefficient: 2.2000000000000006\n",
      "Intercept: -1.0000000000000018\n"
     ]
    }
   ],
   "source": [
    "print(\"Coefficient:\", coefficients[0])\n",
    "print(\"Intercept:\", intercept)\n"
   ]
  },
  {
   "cell_type": "code",
   "execution_count": 30,
   "id": "443834d4-b05c-496d-9a48-549386f02b0e",
   "metadata": {},
   "outputs": [],
   "source": [
    "X_matrix = np.c_[np.ones(X.shape[0]), X]  # Adds a column of ones\n"
   ]
  },
  {
   "cell_type": "code",
   "execution_count": 31,
   "id": "e6797458-1a1b-443a-8a72-50225f2900dd",
   "metadata": {},
   "outputs": [],
   "source": [
    "# Normal equation: (X'X)^(-1)X'y\n",
    "coefficients = np.linalg.inv(X_matrix.T @ X_matrix) @ X_matrix.T @ y\n"
   ]
  },
  {
   "cell_type": "code",
   "execution_count": 32,
   "id": "f9b8d523-c16b-46ea-80ff-84ce1890a9b7",
   "metadata": {},
   "outputs": [
    {
     "name": "stdout",
     "output_type": "stream",
     "text": [
      "Coefficients: [-1.   2.2]\n"
     ]
    }
   ],
   "source": [
    "print(\"Coefficients:\", coefficients)\n"
   ]
  },
  {
   "cell_type": "code",
   "execution_count": 33,
   "id": "840e0e0a-8b1e-48be-b514-263d00c30e6a",
   "metadata": {},
   "outputs": [],
   "source": [
    "#multiregression "
   ]
  },
  {
   "cell_type": "code",
   "execution_count": 34,
   "id": "a8655662-5282-484e-8690-c9cf29f97c2a",
   "metadata": {},
   "outputs": [],
   "source": [
    "data = {\n",
    "    'X1': [1, 2, 3, 4, 5],\n",
    "    'X2': [5, 4, 3, 2, 1],\n",
    "    'y': [2, 3, 5, 7, 11]\n",
    "}\n",
    "df = pd.DataFrame(data)\n"
   ]
  },
  {
   "cell_type": "code",
   "execution_count": 35,
   "id": "9bd94f28-faf4-4c3d-a2f7-e86dd7cdbbb5",
   "metadata": {},
   "outputs": [],
   "source": [
    "X = df[['X1', 'X2']]  # Independent variables\n",
    "y = df['y']           # Dependent variable\n"
   ]
  },
  {
   "cell_type": "code",
   "execution_count": 36,
   "id": "f5763400-72f3-41d7-9705-57acac433606",
   "metadata": {},
   "outputs": [],
   "source": [
    "model = LinearRegression()\n",
    "model.fit(X, y)\n",
    "\n",
    "# Get the coefficients and intercept\n",
    "coefficients = model.coef_\n",
    "intercept = model.intercept_\n"
   ]
  },
  {
   "cell_type": "code",
   "execution_count": 37,
   "id": "28d91167-a1cb-4cc3-a4a0-675a9b0bd4e3",
   "metadata": {},
   "outputs": [
    {
     "name": "stdout",
     "output_type": "stream",
     "text": [
      "Coefficients: [ 1.1 -1.1]\n",
      "Intercept: 5.6\n"
     ]
    }
   ],
   "source": [
    "print(\"Coefficients:\", coefficients)\n",
    "print(\"Intercept:\", intercept)\n"
   ]
  },
  {
   "cell_type": "code",
   "execution_count": 38,
   "id": "6ca16a5f-9e6e-4db0-ae0e-7491790779b7",
   "metadata": {},
   "outputs": [],
   "source": [
    "X_matrix = np.c_[np.ones(X.shape[0]), X]  # Adds a column of ones\n"
   ]
  },
  {
   "cell_type": "code",
   "execution_count": 39,
   "id": "021598db-2a8c-4d41-a204-25fb0efb383d",
   "metadata": {},
   "outputs": [],
   "source": [
    "# Normal equation: (X'X)^(-1)X'y\n",
    "coefficients = np.linalg.inv(X_matrix.T @ X_matrix) @ X_matrix.T @ y\n"
   ]
  },
  {
   "cell_type": "code",
   "execution_count": 40,
   "id": "abbd6a81-dd3d-4d06-967d-01b1ccc44671",
   "metadata": {},
   "outputs": [
    {
     "name": "stdout",
     "output_type": "stream",
     "text": [
      "Coefficients: [-8.375     2.546875  0.28125 ]\n"
     ]
    }
   ],
   "source": [
    "print(\"Coefficients:\", coefficients)\n"
   ]
  },
  {
   "cell_type": "code",
   "execution_count": null,
   "id": "ad6bdd89-e586-48a4-9290-acce4495ef0e",
   "metadata": {},
   "outputs": [],
   "source": []
  }
 ],
 "metadata": {
  "kernelspec": {
   "display_name": "Python 3 (ipykernel)",
   "language": "python",
   "name": "python3"
  },
  "language_info": {
   "codemirror_mode": {
    "name": "ipython",
    "version": 3
   },
   "file_extension": ".py",
   "mimetype": "text/x-python",
   "name": "python",
   "nbconvert_exporter": "python",
   "pygments_lexer": "ipython3",
   "version": "3.13.0"
  }
 },
 "nbformat": 4,
 "nbformat_minor": 5
}
